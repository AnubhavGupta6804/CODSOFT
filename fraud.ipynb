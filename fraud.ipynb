{
  "nbformat": 4,
  "nbformat_minor": 0,
  "metadata": {
    "colab": {
      "provenance": []
    },
    "kernelspec": {
      "name": "python3",
      "display_name": "Python 3"
    },
    "language_info": {
      "name": "python"
    }
  },
  "cells": [
    {
      "cell_type": "code",
      "execution_count": 1,
      "metadata": {
        "id": "mjltr4fj_fVg"
      },
      "outputs": [],
      "source": [
        "import pandas as pd\n",
        "import numpy as np\n",
        "from sklearn.model_selection import train_test_split\n",
        "from sklearn.preprocessing import StandardScaler, LabelEncoder\n",
        "from sklearn.linear_model import LogisticRegression\n",
        "from sklearn.tree import DecisionTreeClassifier\n",
        "from sklearn.ensemble import RandomForestClassifier\n",
        "from sklearn.metrics import classification_report, roc_auc_score"
      ]
    },
    {
      "cell_type": "code",
      "source": [
        "train_data = pd.read_csv('/content/fraudTrain.csv')\n",
        "test_data = pd.read_csv('/content/fraudTest.csv')"
      ],
      "metadata": {
        "id": "a3s3M_IDBtqL"
      },
      "execution_count": 42,
      "outputs": []
    },
    {
      "cell_type": "code",
      "source": [
        "# Step 3: Combining datasets to ensure consistent preprocessing\n",
        "combined_data = pd.concat([train_data, test_data], keys=['train', 'test'])\n",
        "\n",
        "# Step 4: Encoding categorical variables\n",
        "label_encoders = {}\n",
        "for column in ['merchant', 'category', 'first', 'last', 'gender', 'street', 'city', 'state', 'job']:\n",
        "    le = LabelEncoder()\n",
        "    combined_data[column] = le.fit_transform(combined_data[column].astype(str))\n",
        "    label_encoders[column] = le\n"
      ],
      "metadata": {
        "id": "DH2UD5qOJBm3"
      },
      "execution_count": 43,
      "outputs": []
    },
    {
      "cell_type": "code",
      "source": [
        "# Step 5: Dropping unnecessary columns\n",
        "combined_data = combined_data.drop(['trans_date_trans_time', 'dob', 'trans_num'], axis=1)\n",
        "\n",
        "# Step 6: Separating the combined data back into train and test sets\n",
        "train_data = combined_data.xs('train')\n",
        "test_data = combined_data.xs('test')\n",
        "\n",
        "# Step 7: Ensuring there are no missing values in y_train\n",
        "y_train = train_data['is_fraud']\n",
        "y_test = test_data['is_fraud']"
      ],
      "metadata": {
        "id": "uSrRaDcoJLgM"
      },
      "execution_count": 44,
      "outputs": []
    },
    {
      "cell_type": "code",
      "source": [
        "# Checking for missing values in y_train and y_test\n",
        "if y_train.isnull().sum() > 0:\n",
        "    print(\"Warning: Missing values found in y_train. Imputing them.\")\n",
        "    y_train.fillna(y_train.mode()[0], inplace=True)\n",
        "\n",
        "if y_test.isnull().sum() > 0:\n",
        "    print(\"Warning: Missing values found in y_test. Imputing them.\")\n",
        "    y_test.fillna(y_test.mode()[0], inplace=True)"
      ],
      "metadata": {
        "colab": {
          "base_uri": "https://localhost:8080/"
        },
        "id": "azEkNJqVJWbV",
        "outputId": "e8c5e1c1-8d42-44ee-c590-0c44d5837d03"
      },
      "execution_count": 45,
      "outputs": [
        {
          "output_type": "stream",
          "name": "stdout",
          "text": [
            "Warning: Missing values found in y_train. Imputing them.\n",
            "Warning: Missing values found in y_test. Imputing them.\n"
          ]
        },
        {
          "output_type": "stream",
          "name": "stderr",
          "text": [
            "<ipython-input-45-a4cb29214f1c>:4: SettingWithCopyWarning: \n",
            "A value is trying to be set on a copy of a slice from a DataFrame\n",
            "\n",
            "See the caveats in the documentation: https://pandas.pydata.org/pandas-docs/stable/user_guide/indexing.html#returning-a-view-versus-a-copy\n",
            "  y_train.fillna(y_train.mode()[0], inplace=True)\n",
            "<ipython-input-45-a4cb29214f1c>:8: SettingWithCopyWarning: \n",
            "A value is trying to be set on a copy of a slice from a DataFrame\n",
            "\n",
            "See the caveats in the documentation: https://pandas.pydata.org/pandas-docs/stable/user_guide/indexing.html#returning-a-view-versus-a-copy\n",
            "  y_test.fillna(y_test.mode()[0], inplace=True)\n"
          ]
        }
      ]
    },
    {
      "cell_type": "code",
      "source": [
        "# Step 8: Spliting train data into X and y\n",
        "X_train = train_data.drop(['is_fraud'], axis=1)\n",
        "X_test = test_data.drop(['is_fraud'], axis=1)\n",
        "\n",
        "# Step 9: Handling missing values in X_train and X_test\n",
        "imputer = SimpleImputer(strategy='mean')\n",
        "X_train = pd.DataFrame(imputer.fit_transform(X_train), columns=X_train.columns, index=X_train.index)\n",
        "X_test = pd.DataFrame(imputer.transform(X_test), columns=X_test.columns, index=X_test.index)\n"
      ],
      "metadata": {
        "id": "9tCtr3VkJdlO"
      },
      "execution_count": 46,
      "outputs": []
    },
    {
      "cell_type": "code",
      "source": [
        "# Step 10: Normalizing the feature columns\n",
        "scaler = StandardScaler()\n",
        "X_train = scaler.fit_transform(X_train)\n",
        "X_test = scaler.transform(X_test)\n",
        "\n",
        "# Step 11: Initializing models\n",
        "log_reg = LogisticRegression(max_iter=1000)\n",
        "dec_tree = DecisionTreeClassifier()\n",
        "rand_forest = RandomForestClassifier()"
      ],
      "metadata": {
        "id": "zBuwsc-eJixV"
      },
      "execution_count": 47,
      "outputs": []
    },
    {
      "cell_type": "code",
      "source": [
        "# Step 12: Training models\n",
        "log_reg.fit(X_train, y_train)\n",
        "dec_tree.fit(X_train, y_train)\n",
        "rand_forest.fit(X_train, y_train)"
      ],
      "metadata": {
        "colab": {
          "base_uri": "https://localhost:8080/",
          "height": 74
        },
        "id": "ypz7F-l8JmZn",
        "outputId": "e8330783-e7d7-44f7-9511-24a413a7831f"
      },
      "execution_count": 48,
      "outputs": [
        {
          "output_type": "execute_result",
          "data": {
            "text/plain": [
              "RandomForestClassifier()"
            ],
            "text/html": [
              "<style>#sk-container-id-1 {color: black;background-color: white;}#sk-container-id-1 pre{padding: 0;}#sk-container-id-1 div.sk-toggleable {background-color: white;}#sk-container-id-1 label.sk-toggleable__label {cursor: pointer;display: block;width: 100%;margin-bottom: 0;padding: 0.3em;box-sizing: border-box;text-align: center;}#sk-container-id-1 label.sk-toggleable__label-arrow:before {content: \"▸\";float: left;margin-right: 0.25em;color: #696969;}#sk-container-id-1 label.sk-toggleable__label-arrow:hover:before {color: black;}#sk-container-id-1 div.sk-estimator:hover label.sk-toggleable__label-arrow:before {color: black;}#sk-container-id-1 div.sk-toggleable__content {max-height: 0;max-width: 0;overflow: hidden;text-align: left;background-color: #f0f8ff;}#sk-container-id-1 div.sk-toggleable__content pre {margin: 0.2em;color: black;border-radius: 0.25em;background-color: #f0f8ff;}#sk-container-id-1 input.sk-toggleable__control:checked~div.sk-toggleable__content {max-height: 200px;max-width: 100%;overflow: auto;}#sk-container-id-1 input.sk-toggleable__control:checked~label.sk-toggleable__label-arrow:before {content: \"▾\";}#sk-container-id-1 div.sk-estimator input.sk-toggleable__control:checked~label.sk-toggleable__label {background-color: #d4ebff;}#sk-container-id-1 div.sk-label input.sk-toggleable__control:checked~label.sk-toggleable__label {background-color: #d4ebff;}#sk-container-id-1 input.sk-hidden--visually {border: 0;clip: rect(1px 1px 1px 1px);clip: rect(1px, 1px, 1px, 1px);height: 1px;margin: -1px;overflow: hidden;padding: 0;position: absolute;width: 1px;}#sk-container-id-1 div.sk-estimator {font-family: monospace;background-color: #f0f8ff;border: 1px dotted black;border-radius: 0.25em;box-sizing: border-box;margin-bottom: 0.5em;}#sk-container-id-1 div.sk-estimator:hover {background-color: #d4ebff;}#sk-container-id-1 div.sk-parallel-item::after {content: \"\";width: 100%;border-bottom: 1px solid gray;flex-grow: 1;}#sk-container-id-1 div.sk-label:hover label.sk-toggleable__label {background-color: #d4ebff;}#sk-container-id-1 div.sk-serial::before {content: \"\";position: absolute;border-left: 1px solid gray;box-sizing: border-box;top: 0;bottom: 0;left: 50%;z-index: 0;}#sk-container-id-1 div.sk-serial {display: flex;flex-direction: column;align-items: center;background-color: white;padding-right: 0.2em;padding-left: 0.2em;position: relative;}#sk-container-id-1 div.sk-item {position: relative;z-index: 1;}#sk-container-id-1 div.sk-parallel {display: flex;align-items: stretch;justify-content: center;background-color: white;position: relative;}#sk-container-id-1 div.sk-item::before, #sk-container-id-1 div.sk-parallel-item::before {content: \"\";position: absolute;border-left: 1px solid gray;box-sizing: border-box;top: 0;bottom: 0;left: 50%;z-index: -1;}#sk-container-id-1 div.sk-parallel-item {display: flex;flex-direction: column;z-index: 1;position: relative;background-color: white;}#sk-container-id-1 div.sk-parallel-item:first-child::after {align-self: flex-end;width: 50%;}#sk-container-id-1 div.sk-parallel-item:last-child::after {align-self: flex-start;width: 50%;}#sk-container-id-1 div.sk-parallel-item:only-child::after {width: 0;}#sk-container-id-1 div.sk-dashed-wrapped {border: 1px dashed gray;margin: 0 0.4em 0.5em 0.4em;box-sizing: border-box;padding-bottom: 0.4em;background-color: white;}#sk-container-id-1 div.sk-label label {font-family: monospace;font-weight: bold;display: inline-block;line-height: 1.2em;}#sk-container-id-1 div.sk-label-container {text-align: center;}#sk-container-id-1 div.sk-container {/* jupyter's `normalize.less` sets `[hidden] { display: none; }` but bootstrap.min.css set `[hidden] { display: none !important; }` so we also need the `!important` here to be able to override the default hidden behavior on the sphinx rendered scikit-learn.org. See: https://github.com/scikit-learn/scikit-learn/issues/21755 */display: inline-block !important;position: relative;}#sk-container-id-1 div.sk-text-repr-fallback {display: none;}</style><div id=\"sk-container-id-1\" class=\"sk-top-container\"><div class=\"sk-text-repr-fallback\"><pre>RandomForestClassifier()</pre><b>In a Jupyter environment, please rerun this cell to show the HTML representation or trust the notebook. <br />On GitHub, the HTML representation is unable to render, please try loading this page with nbviewer.org.</b></div><div class=\"sk-container\" hidden><div class=\"sk-item\"><div class=\"sk-estimator sk-toggleable\"><input class=\"sk-toggleable__control sk-hidden--visually\" id=\"sk-estimator-id-1\" type=\"checkbox\" checked><label for=\"sk-estimator-id-1\" class=\"sk-toggleable__label sk-toggleable__label-arrow\">RandomForestClassifier</label><div class=\"sk-toggleable__content\"><pre>RandomForestClassifier()</pre></div></div></div></div></div>"
            ]
          },
          "metadata": {},
          "execution_count": 48
        }
      ]
    },
    {
      "cell_type": "code",
      "source": [
        "# Step 13: Predicting and evaluate models\n",
        "models = {'Logistic Regression': log_reg, 'Decision Tree': dec_tree, 'Random Forest': rand_forest}\n",
        "\n",
        "for name, model in models.items():\n",
        "    y_pred = model.predict(X_test)\n",
        "    y_prob = model.predict_proba(X_test)[:, 1]\n",
        "    print(f\"Model: {name}\")\n",
        "    print(classification_report(y_test, y_pred))\n",
        "    print(\"AUC-ROC:\", roc_auc_score(y_test, y_prob))"
      ],
      "metadata": {
        "colab": {
          "base_uri": "https://localhost:8080/"
        },
        "id": "ykneJXV0Jq-w",
        "outputId": "181b92aa-8f34-4b30-e3d6-179ec667054a"
      },
      "execution_count": 49,
      "outputs": [
        {
          "output_type": "stream",
          "name": "stdout",
          "text": [
            "Model: Logistic Regression\n",
            "              precision    recall  f1-score   support\n",
            "\n",
            "         0.0       1.00      0.00      0.00     11668\n",
            "         1.0       0.00      1.00      0.00        29\n",
            "\n",
            "    accuracy                           0.00     11697\n",
            "   macro avg       0.50      0.50      0.00     11697\n",
            "weighted avg       1.00      0.00      0.00     11697\n",
            "\n",
            "AUC-ROC: 0.5413952691121015\n",
            "Model: Decision Tree\n",
            "              precision    recall  f1-score   support\n",
            "\n",
            "         0.0       1.00      1.00      1.00     11668\n",
            "         1.0       0.46      0.21      0.29        29\n",
            "\n",
            "    accuracy                           1.00     11697\n",
            "   macro avg       0.73      0.60      0.64     11697\n",
            "weighted avg       1.00      1.00      1.00     11697\n",
            "\n",
            "AUC-ROC: 0.6031483101438654\n",
            "Model: Random Forest\n",
            "              precision    recall  f1-score   support\n",
            "\n",
            "         0.0       1.00      1.00      1.00     11668\n",
            "         1.0       0.00      0.00      0.00        29\n",
            "\n",
            "    accuracy                           1.00     11697\n",
            "   macro avg       0.50      0.50      0.50     11697\n",
            "weighted avg       1.00      1.00      1.00     11697\n",
            "\n",
            "AUC-ROC: 0.737246285153618\n"
          ]
        }
      ]
    }
  ]
}